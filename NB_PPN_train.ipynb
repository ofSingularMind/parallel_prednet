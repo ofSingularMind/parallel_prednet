{
 "cells": [
  {
   "cell_type": "code",
   "execution_count": 1,
   "metadata": {},
   "outputs": [],
   "source": [
    "import os\n",
    "import warnings\n",
    "\n",
    "# Suppress warnings\n",
    "warnings.filterwarnings('ignore')\n",
    "os.environ['TF_CPP_MIN_LOG_LEVEL'] = '3'  # or '2' to filter out INFO messages too\n",
    "import hickle as hkl\n",
    "\n",
    "import numpy as np\n",
    "from six.moves import cPickle as pickle\n",
    "import subprocess\n",
    "from kitti_settings import *\n",
    "import keras\n",
    "from keras import layers\n",
    "\n",
    "import keras\n",
    "from keras import backend as K\n",
    "import numpy as np\n",
    "from keras.layers import Input, Dense, Layer\n",
    "from keras.models import Model\n",
    "from PPN import ParaPredNet\n",
    "from data_utils import dir_PFM_to_PNG, create_dataset_from_generator, create_dataset_from_serialized_generator, serialize_dataset\n",
    "import matplotlib.pyplot as plt\n",
    "import time"
   ]
  },
  {
   "cell_type": "code",
   "execution_count": 2,
   "metadata": {},
   "outputs": [],
   "source": [
    "# Define paths to .pfm and .png directories\n",
    "pfm_paths = []\n",
    "pfm_paths.append('/home/evalexii/local_dataset/disparity/family_x2/left/')\n",
    "pfm_paths.append('/home/evalexii/local_dataset/material_index/family_x2/left/')\n",
    "pfm_paths.append('/home/evalexii/local_dataset/object_index/family_x2/left/')\n",
    "pfm_paths.append('/home/evalexii/local_dataset/optical_flow/family_x2/into_future/left/')\n",
    "pgm_paths = []\n",
    "pgm_paths.append('/home/evalexii/local_dataset/motion_boundaries/family_x2/into_future/left/')\n",
    "png_paths = []\n",
    "png_paths.append('/home/evalexii/local_dataset/frames_cleanpass/family_x2/left')\n",
    "\n",
    "batch_size = 3\n",
    "nt = 10\n",
    "im_shape = (540, 960, 3)"
   ]
  },
  {
   "cell_type": "code",
   "execution_count": 3,
   "metadata": {},
   "outputs": [],
   "source": [
    "\n",
    "# #  Create and split dataset\n",
    "# serialize_dataset(pfm_paths, pgm_paths, png_paths, start_time=start)"
   ]
  },
  {
   "cell_type": "code",
   "execution_count": 4,
   "metadata": {},
   "outputs": [],
   "source": [
    "# dataset, length = create_dataset_from_generator(pfm_paths, pgm_paths, png_paths, im_height=im_shape[0], im_width=im_shape[1], batch_size=batch_size, nt=nt)\n",
    "\n",
    "# ts = 0.7\n",
    "# vs = (1 - ts) / 2\n",
    "# train_size = int(ts * length)\n",
    "# val_size = int(vs * length)\n",
    "# test_size = int(vs * length)\n",
    "\n",
    "# train_dataset = dataset.take(train_size)\n",
    "# test_dataset = dataset.skip(train_size)\n",
    "# val_dataset = test_dataset.skip(val_size)\n",
    "# test_dataset = test_dataset.take(test_size)\n"
   ]
  },
  {
   "cell_type": "code",
   "execution_count": 5,
   "metadata": {},
   "outputs": [
    {
     "name": "stdout",
     "output_type": "stream",
     "text": [
      "Using previously serialized dataset.\n",
      "Begin tf.data.Dataset creation at 0.00020423300156835467 seconds.\n",
      "End tf.data.Dataset creation at 5.757780937994539 seconds.\n"
     ]
    }
   ],
   "source": [
    "dataset, length = create_dataset_from_serialized_generator(pfm_paths, pgm_paths, png_paths, im_height=im_shape[0], im_width=im_shape[1], batch_size=batch_size, nt=nt, reserialize=False, shuffle=True)\n",
    "\n",
    "ts = 0.7\n",
    "vs = (1 - ts) / 2\n",
    "train_size = int(ts * length)\n",
    "val_size = int(vs * length)\n",
    "test_size = int(vs * length)\n",
    "\n",
    "train_dataset = dataset.take(train_size)\n",
    "test_dataset = dataset.skip(train_size)\n",
    "val_dataset = test_dataset.skip(val_size)\n",
    "test_dataset = test_dataset.take(test_size)\n"
   ]
  },
  {
   "cell_type": "code",
   "execution_count": 6,
   "metadata": {},
   "outputs": [
    {
     "ename": "",
     "evalue": "",
     "output_type": "error",
     "traceback": [
      "\u001b[1;31mCannot execute code, session has been disposed. Please try restarting the Kernel."
     ]
    },
    {
     "ename": "",
     "evalue": "",
     "output_type": "error",
     "traceback": [
      "\u001b[1;31mThe Kernel crashed while executing code in the the current cell or a previous cell. Please review the code in the cell(s) to identify a possible cause of the failure. Click <a href='https://aka.ms/vscodeJupyterKernelCrash'>here</a> for more info. View Jupyter <a href='command:jupyter.viewOutput'>log</a> for further details."
     ]
    }
   ],
   "source": [
    "# Iterate over the dataset\n",
    "for b, batch in enumerate(dataset):\n",
    "    lth = len(batch)\n",
    "    for bs, batch_seq in enumerate(batch):\n",
    "        # print(item.shape)\n",
    "        fig, axes = plt.subplots(batch_size, nt, figsize=(15, 5))\n",
    "        for i in range(batch_size):\n",
    "            for j in range(nt):\n",
    "                axes[i,j].imshow(batch_seq[i,j])\n",
    "        plt.savefig(f'./images/test_{b}_{bs}_{i}_{j}.png')"
   ]
  }
 ],
 "metadata": {
  "kernelspec": {
   "display_name": "PPN",
   "language": "python",
   "name": "python3"
  },
  "language_info": {
   "codemirror_mode": {
    "name": "ipython",
    "version": 3
   },
   "file_extension": ".py",
   "mimetype": "text/x-python",
   "name": "python",
   "nbconvert_exporter": "python",
   "pygments_lexer": "ipython3",
   "version": "3.11.8"
  },
  "orig_nbformat": 4
 },
 "nbformat": 4,
 "nbformat_minor": 2
}
